{
  "nbformat": 4,
  "nbformat_minor": 0,
  "metadata": {
    "colab": {
      "provenance": [],
      "authorship_tag": "ABX9TyNYgRG27Q3DWRbX1d7Ia68D",
      "include_colab_link": true
    },
    "kernelspec": {
      "name": "python3",
      "display_name": "Python 3"
    },
    "language_info": {
      "name": "python"
    }
  },
  "cells": [
    {
      "cell_type": "markdown",
      "metadata": {
        "id": "view-in-github",
        "colab_type": "text"
      },
      "source": [
        "<a href=\"https://colab.research.google.com/github/Symphoen1x/Almadani.github.io/blob/main/random_state.ipynb\" target=\"_parent\"><img src=\"https://colab.research.google.com/assets/colab-badge.svg\" alt=\"Open In Colab\"/></a>"
      ]
    },
    {
      "cell_type": "code",
      "execution_count": null,
      "metadata": {
        "colab": {
          "base_uri": "https://localhost:8080/"
        },
        "id": "m6HZGdzoZYRb",
        "outputId": "966feae7-ff77-465b-e0ac-8fc75b38e69a"
      },
      "outputs": [
        {
          "output_type": "stream",
          "name": "stdout",
          "text": [
            "random_state ditentukan\n",
            "[8, 1, 5]\n",
            "[8, 1, 5]\n",
            "[8, 1, 5]\n",
            "random_state tidak ditentukan\n",
            "[1, 7, 3]\n",
            "[0, 2, 6]\n",
            "[2, 3, 5]\n"
          ]
        }
      ],
      "source": [
        "#mengimpor fungsi train_test_split dari modul sklearn.model_selection\n",
        "from sklearn.model_selection import train_test_split\n",
        "\n",
        "#value data train dan data test itu dibawah 10 karena eksplisit(0-9)\n",
        "X_data = range(10)\n",
        "y_data = range(10)\n",
        "\n",
        "#perbedaan kondisi\n",
        "print(\"random_state ditentukan\") #jika dirunning kita bisa lihat pada output split data akan sama setiap kali fungsi train_test_split dijalankan.\n",
        "for i in range(3):\n",
        "    X_train, X_test, y_train, y_test = train_test_split(X_data, y_data, test_size = 0.3, random_state = 42)\n",
        "    print(y_test)\n",
        "\n",
        "\n",
        "print(\"random_state tidak ditentukan\") #jika dirunning kita bisa lihat pada output random_state tidak ditentukan, split data akan berbeda setiap kali fungsi train_test_split dijalankan.\n",
        "for i in range(3):\n",
        "    X_train, X_test, y_train, y_test = train_test_split(X_data, y_data, test_size = 0.3, random_state = None)\n",
        "    print(y_test)\n",
        "\n",
        "#jadi tujuan sintaks diatas adalah untuk reprodusibilitas hasil eksperimen\n",
        "#menggunakan parameter random_state dengan nilai yang sama setiap kali Anda menjalankan fungsi train_test_split."
      ]
    }
  ]
}